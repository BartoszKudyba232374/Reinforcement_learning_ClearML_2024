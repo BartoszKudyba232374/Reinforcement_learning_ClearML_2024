{
 "cells": [
  {
   "cell_type": "code",
   "execution_count": 1,
   "metadata": {},
   "outputs": [],
   "source": [
    "import gymnasium as gym\n",
    "import time\n",
    "\n",
    "# Create an instance of the CartPole environment\n",
    "# Set render_mode to 'human' to render the environment in a window\n",
    "env = gym.make('CartPole-v1', render_mode='rgb_array') # Set render_mode to 'rgb_array' to render the environment as an image array\n",
    "\n",
    "# Reset the environment and get the initial state\n",
    "observation, info = env.reset(seed=42) # Set seed to get the same initial state every time\n",
    "\n",
    "# Run the simulation for 1000 steps\n",
    "for _ in range(1000):   \n",
    "    #if you want to render the environment as an image array use the following code\n",
    "    #img = env.render() # This will store the image array in the variable img instead of rendering it in a window\n",
    "\n",
    "    # Take a random action by sampling from the action space\n",
    "    action = env.action_space.sample()\n",
    "    \n",
    "    # Execute the action and get the next state, reward, and whether the episode is done. \n",
    "    # Terminated is True if the episode is done and False otherwise, Truncated is True if the episode was terminated because the time limit was reached.\n",
    "    observation, reward, terminated, truncated, info = env.step(action)\n",
    "    done = terminated or truncated\n",
    "\n",
    "    # add a delay to slow down the env render\n",
    "    # This is purely for visualization purposes, DO NOT use this when training!\n",
    "    # time.sleep(0.05)\n",
    "    \n",
    "    # If the episode is done, reset the environment\n",
    "    if done:\n",
    "        state = env.reset()"
   ]
  },
  {
   "cell_type": "code",
   "execution_count": 2,
   "metadata": {},
   "outputs": [
    {
     "name": "stdout",
     "output_type": "stream",
     "text": [
      "The observation space: Box([-4.8               -inf -0.41887903        -inf], [4.8               inf 0.41887903        inf], (4,), float32)\n",
      "The action space: Discrete(2)\n"
     ]
    }
   ],
   "source": [
    "# Observation and action space \n",
    "obs_space = env.observation_space\n",
    "action_space = env.action_space\n",
    "print(\"The observation space: {}\".format(obs_space))\n",
    "print(\"The action space: {}\".format(action_space))\n"
   ]
  },
  {
   "cell_type": "code",
   "execution_count": 3,
   "metadata": {},
   "outputs": [
    {
     "name": "stdout",
     "output_type": "stream",
     "text": [
      "The initial observation is (array([-0.03922591,  0.04160118, -0.0269786 , -0.04625874], dtype=float32), {})\n",
      "The new observation is [-0.03839388  0.2370994  -0.02790378 -0.3473301 ]\n"
     ]
    }
   ],
   "source": [
    "import matplotlib.pyplot as plt \n",
    "\n",
    "# reset the environment and see the initial observation\n",
    "obs = env.reset()\n",
    "print(\"The initial observation is {}\".format(obs))\n",
    "\n",
    "# Sample a random action from the entire action space\n",
    "random_action = env.action_space.sample()\n",
    "\n",
    "# # Take the action and get the new observation space\n",
    "new_obs, reward, term, trun, info = env.step(random_action)\n",
    "print(\"The new observation is {}\".format(new_obs))"
   ]
  },
  {
   "cell_type": "code",
   "execution_count": 4,
   "metadata": {},
   "outputs": [
    {
     "name": "stderr",
     "output_type": "stream",
     "text": [
      "pybullet build time: Oct 14 2023 15:59:43\n"
     ]
    }
   ],
   "source": [
    "import sys\n",
    "sys.path.append('../OT2_Twin')\n",
    "from sim_class import Simulation"
   ]
  },
  {
   "cell_type": "code",
   "execution_count": 5,
   "metadata": {},
   "outputs": [
    {
     "data": {
      "text/plain": [
       "(-0.187, -0.1705, 0.1195, -0.187, -0.1705, 0.1195)"
      ]
     },
     "execution_count": 5,
     "metadata": {},
     "output_type": "execute_result"
    }
   ],
   "source": [
    "x_range = (-0.187, 0.253)\n",
    "y_range = (-0.1705, 0.2195)\n",
    "z_range = (0.1195, 0.2895)\n",
    "xyz_low = (x_range[0], y_range[0] ,z_range[0])\n",
    "xyz_high = (x_range[1], y_range[1] ,z_range[1])\n",
    "\n",
    "xyz_low*2"
   ]
  },
  {
   "cell_type": "code",
   "execution_count": 6,
   "metadata": {},
   "outputs": [
    {
     "data": {
      "text/plain": [
       "[0, 1, 2, 0, 1, 2]"
      ]
     },
     "execution_count": 6,
     "metadata": {},
     "output_type": "execute_result"
    }
   ],
   "source": [
    "import numpy as np\n",
    "\n",
    "obs = [0,1,2]\n",
    "goal_position = [3,4,5]\n",
    "reward = obs *2\n",
    "reward"
   ]
  },
  {
   "cell_type": "code",
   "execution_count": 7,
   "metadata": {},
   "outputs": [
    {
     "data": {
      "text/plain": [
       "array([0, 1, 2, 3, 4, 5])"
      ]
     },
     "execution_count": 7,
     "metadata": {},
     "output_type": "execute_result"
    }
   ],
   "source": [
    "np.concatenate([obs, goal_position])"
   ]
  },
  {
   "cell_type": "code",
   "execution_count": null,
   "metadata": {},
   "outputs": [],
   "source": []
  }
 ],
 "metadata": {
  "kernelspec": {
   "display_name": "block_b2",
   "language": "python",
   "name": "python3"
  },
  "language_info": {
   "codemirror_mode": {
    "name": "ipython",
    "version": 3
   },
   "file_extension": ".py",
   "mimetype": "text/x-python",
   "name": "python",
   "nbconvert_exporter": "python",
   "pygments_lexer": "ipython3",
   "version": "3.8.18"
  }
 },
 "nbformat": 4,
 "nbformat_minor": 2
}
