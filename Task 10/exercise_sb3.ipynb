{
 "cells": [
  {
   "cell_type": "code",
   "execution_count": 1,
   "metadata": {},
   "outputs": [
    {
     "name": "stderr",
     "output_type": "stream",
     "text": [
      "\u001b[34m\u001b[1mwandb\u001b[0m: Using wandb-core as the SDK backend.  Please refer to https://wandb.me/wandb-core for more information.\n",
      "\u001b[34m\u001b[1mwandb\u001b[0m: Currently logged in as: \u001b[33mbartoszkudyba\u001b[0m (\u001b[33mbartoszkudyba-breda-university-of-applied-sciences\u001b[0m). Use \u001b[1m`wandb login --relogin`\u001b[0m to force relogin\n"
     ]
    },
    {
     "data": {
      "text/html": [
       "Tracking run with wandb version 0.19.0"
      ],
      "text/plain": [
       "<IPython.core.display.HTML object>"
      ]
     },
     "metadata": {},
     "output_type": "display_data"
    },
    {
     "data": {
      "text/html": [
       "Run data is saved locally in <code>/Users/bartoszkudyba/BUAS/Y2/2024-25b-fai2-adsai-BartoszKudyba232374/Task 10/wandb/run-20241218_113508-yn2h6z6z</code>"
      ],
      "text/plain": [
       "<IPython.core.display.HTML object>"
      ]
     },
     "metadata": {},
     "output_type": "display_data"
    },
    {
     "data": {
      "text/html": [
       "Syncing run <strong><a href='https://wandb.ai/bartoszkudyba-breda-university-of-applied-sciences/Pendulum_2g/runs/yn2h6z6z' target=\"_blank\">tough-cherry-4</a></strong> to <a href='https://wandb.ai/bartoszkudyba-breda-university-of-applied-sciences/Pendulum_2g' target=\"_blank\">Weights & Biases</a> (<a href='https://wandb.me/developer-guide' target=\"_blank\">docs</a>)<br/>"
      ],
      "text/plain": [
       "<IPython.core.display.HTML object>"
      ]
     },
     "metadata": {},
     "output_type": "display_data"
    },
    {
     "data": {
      "text/html": [
       " View project at <a href='https://wandb.ai/bartoszkudyba-breda-university-of-applied-sciences/Pendulum_2g' target=\"_blank\">https://wandb.ai/bartoszkudyba-breda-university-of-applied-sciences/Pendulum_2g</a>"
      ],
      "text/plain": [
       "<IPython.core.display.HTML object>"
      ]
     },
     "metadata": {},
     "output_type": "display_data"
    },
    {
     "data": {
      "text/html": [
       " View run at <a href='https://wandb.ai/bartoszkudyba-breda-university-of-applied-sciences/Pendulum_2g/runs/yn2h6z6z' target=\"_blank\">https://wandb.ai/bartoszkudyba-breda-university-of-applied-sciences/Pendulum_2g/runs/yn2h6z6z</a>"
      ],
      "text/plain": [
       "<IPython.core.display.HTML object>"
      ]
     },
     "metadata": {},
     "output_type": "display_data"
    },
    {
     "name": "stdout",
     "output_type": "stream",
     "text": [
      "Using mps device\n",
      "Wrapping the env with a `Monitor` wrapper\n",
      "Wrapping the env in a DummyVecEnv.\n"
     ]
    },
    {
     "name": "stderr",
     "output_type": "stream",
     "text": [
      "/opt/anaconda3/envs/block_b2/lib/python3.8/site-packages/stable_baselines3/common/on_policy_algorithm.py:150: UserWarning: You are trying to run PPO on the GPU, but it is primarily intended to run on the CPU when not using a CNN policy (you are using ActorCriticPolicy which should be a MlpPolicy). See https://github.com/DLR-RM/stable-baselines3/issues/1245 for more info. You can pass `device='cpu'` or `export CUDA_VISIBLE_DEVICES=` to force using the CPU.Note: The model will train, but the GPU utilization will be poor and the training might take longer than on CPU.\n",
      "  warnings.warn(\n"
     ]
    }
   ],
   "source": [
    "from stable_baselines3 import PPO\n",
    "import gymnasium\n",
    "import wandb\n",
    "from wandb.integration.sb3 import WandbCallback\n",
    "\n",
    "config1 = dict(\n",
    "            total_timesteps=100000, \n",
    "            save_freq=10000, \n",
    "            gravity=2\n",
    "            )\n",
    "\n",
    "run1 = wandb.init(project='Pendulum_2g', config=config1, sync_tensorboard=True)\n",
    "\n",
    "env = gymnasium.make('CartPole-v1', render_mode='rgb_array')\n",
    "model = PPO('MlpPolicy', env, verbose=1, device='mps', tensorboard_log=f\"runs/{run1.id}\")\n",
    "\n"
   ]
  },
  {
   "cell_type": "code",
   "execution_count": 2,
   "metadata": {},
   "outputs": [
    {
     "name": "stdout",
     "output_type": "stream",
     "text": [
      "Logging to runs/yn2h6z6z/PPO_1\n"
     ]
    },
    {
     "data": {
      "application/vnd.jupyter.widget-view+json": {
       "model_id": "8dd91c86eb3e4a5e9c406b8b6ec1bcc6",
       "version_major": 2,
       "version_minor": 0
      },
      "text/plain": [
       "Output()"
      ]
     },
     "metadata": {},
     "output_type": "display_data"
    },
    {
     "name": "stdout",
     "output_type": "stream",
     "text": [
      "---------------------------------\n",
      "| rollout/           |          |\n",
      "|    ep_len_mean     | 22       |\n",
      "|    ep_rew_mean     | 22       |\n",
      "| time/              |          |\n",
      "|    fps             | 217      |\n",
      "|    iterations      | 1        |\n",
      "|    time_elapsed    | 9        |\n",
      "|    total_timesteps | 2048     |\n",
      "---------------------------------\n"
     ]
    },
    {
     "name": "stdout",
     "output_type": "stream",
     "text": [
      "-----------------------------------------\n",
      "| rollout/                |             |\n",
      "|    ep_len_mean          | 27.1        |\n",
      "|    ep_rew_mean          | 27.1        |\n",
      "| time/                   |             |\n",
      "|    fps                  | 177         |\n",
      "|    iterations           | 2           |\n",
      "|    time_elapsed         | 23          |\n",
      "|    total_timesteps      | 4096        |\n",
      "| train/                  |             |\n",
      "|    approx_kl            | 0.008536349 |\n",
      "|    clip_fraction        | 0.0972      |\n",
      "|    clip_range           | 0.2         |\n",
      "|    entropy_loss         | -0.686      |\n",
      "|    explained_variance   | 0.0131      |\n",
      "|    learning_rate        | 0.0003      |\n",
      "|    loss                 | 8.13        |\n",
      "|    n_updates            | 10          |\n",
      "|    policy_gradient_loss | -0.014      |\n",
      "|    value_loss           | 54.4        |\n",
      "-----------------------------------------\n"
     ]
    },
    {
     "name": "stdout",
     "output_type": "stream",
     "text": [
      "-----------------------------------------\n",
      "| rollout/                |             |\n",
      "|    ep_len_mean          | 34.1        |\n",
      "|    ep_rew_mean          | 34.1        |\n",
      "| time/                   |             |\n",
      "|    fps                  | 169         |\n",
      "|    iterations           | 3           |\n",
      "|    time_elapsed         | 36          |\n",
      "|    total_timesteps      | 6144        |\n",
      "| train/                  |             |\n",
      "|    approx_kl            | 0.008009678 |\n",
      "|    clip_fraction        | 0.0442      |\n",
      "|    clip_range           | 0.2         |\n",
      "|    entropy_loss         | -0.665      |\n",
      "|    explained_variance   | 0.0723      |\n",
      "|    learning_rate        | 0.0003      |\n",
      "|    loss                 | 12.1        |\n",
      "|    n_updates            | 20          |\n",
      "|    policy_gradient_loss | -0.0134     |\n",
      "|    value_loss           | 37.4        |\n",
      "-----------------------------------------\n"
     ]
    },
    {
     "name": "stdout",
     "output_type": "stream",
     "text": [
      "----------------------------------------\n",
      "| rollout/                |            |\n",
      "|    ep_len_mean          | 45.8       |\n",
      "|    ep_rew_mean          | 45.8       |\n",
      "| time/                   |            |\n",
      "|    fps                  | 165        |\n",
      "|    iterations           | 4          |\n",
      "|    time_elapsed         | 49         |\n",
      "|    total_timesteps      | 8192       |\n",
      "| train/                  |            |\n",
      "|    approx_kl            | 0.00871658 |\n",
      "|    clip_fraction        | 0.0861     |\n",
      "|    clip_range           | 0.2        |\n",
      "|    entropy_loss         | -0.625     |\n",
      "|    explained_variance   | 0.22       |\n",
      "|    learning_rate        | 0.0003     |\n",
      "|    loss                 | 21         |\n",
      "|    n_updates            | 30         |\n",
      "|    policy_gradient_loss | -0.0191    |\n",
      "|    value_loss           | 52.6       |\n",
      "----------------------------------------\n"
     ]
    },
    {
     "name": "stdout",
     "output_type": "stream",
     "text": [
      "-----------------------------------------\n",
      "| rollout/                |             |\n",
      "|    ep_len_mean          | 59.5        |\n",
      "|    ep_rew_mean          | 59.5        |\n",
      "| time/                   |             |\n",
      "|    fps                  | 163         |\n",
      "|    iterations           | 5           |\n",
      "|    time_elapsed         | 62          |\n",
      "|    total_timesteps      | 10240       |\n",
      "| train/                  |             |\n",
      "|    approx_kl            | 0.008262756 |\n",
      "|    clip_fraction        | 0.068       |\n",
      "|    clip_range           | 0.2         |\n",
      "|    entropy_loss         | -0.602      |\n",
      "|    explained_variance   | 0.285       |\n",
      "|    learning_rate        | 0.0003      |\n",
      "|    loss                 | 25.9        |\n",
      "|    n_updates            | 40          |\n",
      "|    policy_gradient_loss | -0.0168     |\n",
      "|    value_loss           | 60.1        |\n",
      "-----------------------------------------\n"
     ]
    },
    {
     "name": "stdout",
     "output_type": "stream",
     "text": [
      "-----------------------------------------\n",
      "| rollout/                |             |\n",
      "|    ep_len_mean          | 75.6        |\n",
      "|    ep_rew_mean          | 75.6        |\n",
      "| time/                   |             |\n",
      "|    fps                  | 161         |\n",
      "|    iterations           | 6           |\n",
      "|    time_elapsed         | 75          |\n",
      "|    total_timesteps      | 12288       |\n",
      "| train/                  |             |\n",
      "|    approx_kl            | 0.008643473 |\n",
      "|    clip_fraction        | 0.0899      |\n",
      "|    clip_range           | 0.2         |\n",
      "|    entropy_loss         | -0.588      |\n",
      "|    explained_variance   | 0.373       |\n",
      "|    learning_rate        | 0.0003      |\n",
      "|    loss                 | 18.3        |\n",
      "|    n_updates            | 50          |\n",
      "|    policy_gradient_loss | -0.0145     |\n",
      "|    value_loss           | 65.1        |\n",
      "-----------------------------------------\n"
     ]
    },
    {
     "name": "stdout",
     "output_type": "stream",
     "text": [
      "-----------------------------------------\n",
      "| rollout/                |             |\n",
      "|    ep_len_mean          | 92.6        |\n",
      "|    ep_rew_mean          | 92.6        |\n",
      "| time/                   |             |\n",
      "|    fps                  | 160         |\n",
      "|    iterations           | 7           |\n",
      "|    time_elapsed         | 89          |\n",
      "|    total_timesteps      | 14336       |\n",
      "| train/                  |             |\n",
      "|    approx_kl            | 0.008400355 |\n",
      "|    clip_fraction        | 0.0791      |\n",
      "|    clip_range           | 0.2         |\n",
      "|    entropy_loss         | -0.579      |\n",
      "|    explained_variance   | 0.561       |\n",
      "|    learning_rate        | 0.0003      |\n",
      "|    loss                 | 33.7        |\n",
      "|    n_updates            | 60          |\n",
      "|    policy_gradient_loss | -0.0107     |\n",
      "|    value_loss           | 54.7        |\n",
      "-----------------------------------------\n"
     ]
    },
    {
     "name": "stdout",
     "output_type": "stream",
     "text": [
      "------------------------------------------\n",
      "| rollout/                |              |\n",
      "|    ep_len_mean          | 108          |\n",
      "|    ep_rew_mean          | 108          |\n",
      "| time/                   |              |\n",
      "|    fps                  | 157          |\n",
      "|    iterations           | 8            |\n",
      "|    time_elapsed         | 103          |\n",
      "|    total_timesteps      | 16384        |\n",
      "| train/                  |              |\n",
      "|    approx_kl            | 0.0064860294 |\n",
      "|    clip_fraction        | 0.0376       |\n",
      "|    clip_range           | 0.2          |\n",
      "|    entropy_loss         | -0.587       |\n",
      "|    explained_variance   | 0.795        |\n",
      "|    learning_rate        | 0.0003       |\n",
      "|    loss                 | 3.55         |\n",
      "|    n_updates            | 70           |\n",
      "|    policy_gradient_loss | -0.00539     |\n",
      "|    value_loss           | 36.8         |\n",
      "------------------------------------------\n"
     ]
    },
    {
     "name": "stdout",
     "output_type": "stream",
     "text": [
      "----------------------------------------\n",
      "| rollout/                |            |\n",
      "|    ep_len_mean          | 128        |\n",
      "|    ep_rew_mean          | 128        |\n",
      "| time/                   |            |\n",
      "|    fps                  | 155        |\n",
      "|    iterations           | 9          |\n",
      "|    time_elapsed         | 118        |\n",
      "|    total_timesteps      | 18432      |\n",
      "| train/                  |            |\n",
      "|    approx_kl            | 0.00569358 |\n",
      "|    clip_fraction        | 0.0554     |\n",
      "|    clip_range           | 0.2        |\n",
      "|    entropy_loss         | -0.581     |\n",
      "|    explained_variance   | 0.885      |\n",
      "|    learning_rate        | 0.0003     |\n",
      "|    loss                 | 2.97       |\n",
      "|    n_updates            | 80         |\n",
      "|    policy_gradient_loss | -0.0125    |\n",
      "|    value_loss           | 21.8       |\n",
      "----------------------------------------\n"
     ]
    },
    {
     "name": "stdout",
     "output_type": "stream",
     "text": [
      "------------------------------------------\n",
      "| rollout/                |              |\n",
      "|    ep_len_mean          | 145          |\n",
      "|    ep_rew_mean          | 145          |\n",
      "| time/                   |              |\n",
      "|    fps                  | 155          |\n",
      "|    iterations           | 10           |\n",
      "|    time_elapsed         | 131          |\n",
      "|    total_timesteps      | 20480        |\n",
      "| train/                  |              |\n",
      "|    approx_kl            | 0.0024241654 |\n",
      "|    clip_fraction        | 0.00649      |\n",
      "|    clip_range           | 0.2          |\n",
      "|    entropy_loss         | -0.566       |\n",
      "|    explained_variance   | 0.742        |\n",
      "|    learning_rate        | 0.0003       |\n",
      "|    loss                 | 9.67         |\n",
      "|    n_updates            | 90           |\n",
      "|    policy_gradient_loss | -0.000865    |\n",
      "|    value_loss           | 34.5         |\n",
      "------------------------------------------\n"
     ]
    },
    {
     "name": "stdout",
     "output_type": "stream",
     "text": [
      "------------------------------------------\n",
      "| rollout/                |              |\n",
      "|    ep_len_mean          | 165          |\n",
      "|    ep_rew_mean          | 165          |\n",
      "| time/                   |              |\n",
      "|    fps                  | 155          |\n",
      "|    iterations           | 11           |\n",
      "|    time_elapsed         | 145          |\n",
      "|    total_timesteps      | 22528        |\n",
      "| train/                  |              |\n",
      "|    approx_kl            | 0.0053306865 |\n",
      "|    clip_fraction        | 0.0193       |\n",
      "|    clip_range           | 0.2          |\n",
      "|    entropy_loss         | -0.573       |\n",
      "|    explained_variance   | 0.877        |\n",
      "|    learning_rate        | 0.0003       |\n",
      "|    loss                 | 5.05         |\n",
      "|    n_updates            | 100          |\n",
      "|    policy_gradient_loss | -0.00462     |\n",
      "|    value_loss           | 19.2         |\n",
      "------------------------------------------\n"
     ]
    },
    {
     "name": "stdout",
     "output_type": "stream",
     "text": [
      "-----------------------------------------\n",
      "| rollout/                |             |\n",
      "|    ep_len_mean          | 184         |\n",
      "|    ep_rew_mean          | 184         |\n",
      "| time/                   |             |\n",
      "|    fps                  | 154         |\n",
      "|    iterations           | 12          |\n",
      "|    time_elapsed         | 158         |\n",
      "|    total_timesteps      | 24576       |\n",
      "| train/                  |             |\n",
      "|    approx_kl            | 0.006340468 |\n",
      "|    clip_fraction        | 0.0312      |\n",
      "|    clip_range           | 0.2         |\n",
      "|    entropy_loss         | -0.541      |\n",
      "|    explained_variance   | 0.0301      |\n",
      "|    learning_rate        | 0.0003      |\n",
      "|    loss                 | 0.858       |\n",
      "|    n_updates            | 110         |\n",
      "|    policy_gradient_loss | -0.000115   |\n",
      "|    value_loss           | 23.8        |\n",
      "-----------------------------------------\n"
     ]
    },
    {
     "name": "stdout",
     "output_type": "stream",
     "text": [
      "-----------------------------------------\n",
      "| rollout/                |             |\n",
      "|    ep_len_mean          | 201         |\n",
      "|    ep_rew_mean          | 201         |\n",
      "| time/                   |             |\n",
      "|    fps                  | 154         |\n",
      "|    iterations           | 13          |\n",
      "|    time_elapsed         | 172         |\n",
      "|    total_timesteps      | 26624       |\n",
      "| train/                  |             |\n",
      "|    approx_kl            | 0.005483825 |\n",
      "|    clip_fraction        | 0.0211      |\n",
      "|    clip_range           | 0.2         |\n",
      "|    entropy_loss         | -0.538      |\n",
      "|    explained_variance   | 0.00284     |\n",
      "|    learning_rate        | 0.0003      |\n",
      "|    loss                 | 2.78        |\n",
      "|    n_updates            | 120         |\n",
      "|    policy_gradient_loss | -0.00439    |\n",
      "|    value_loss           | 38.2        |\n",
      "-----------------------------------------\n"
     ]
    },
    {
     "name": "stdout",
     "output_type": "stream",
     "text": [
      "-----------------------------------------\n",
      "| rollout/                |             |\n",
      "|    ep_len_mean          | 218         |\n",
      "|    ep_rew_mean          | 218         |\n",
      "| time/                   |             |\n",
      "|    fps                  | 154         |\n",
      "|    iterations           | 14          |\n",
      "|    time_elapsed         | 185         |\n",
      "|    total_timesteps      | 28672       |\n",
      "| train/                  |             |\n",
      "|    approx_kl            | 0.005743092 |\n",
      "|    clip_fraction        | 0.0247      |\n",
      "|    clip_range           | 0.2         |\n",
      "|    entropy_loss         | -0.551      |\n",
      "|    explained_variance   | 0.853       |\n",
      "|    learning_rate        | 0.0003      |\n",
      "|    loss                 | 3.21        |\n",
      "|    n_updates            | 130         |\n",
      "|    policy_gradient_loss | -0.00545    |\n",
      "|    value_loss           | 20.9        |\n",
      "-----------------------------------------\n"
     ]
    },
    {
     "name": "stdout",
     "output_type": "stream",
     "text": [
      "------------------------------------------\n",
      "| rollout/                |              |\n",
      "|    ep_len_mean          | 235          |\n",
      "|    ep_rew_mean          | 235          |\n",
      "| time/                   |              |\n",
      "|    fps                  | 155          |\n",
      "|    iterations           | 15           |\n",
      "|    time_elapsed         | 197          |\n",
      "|    total_timesteps      | 30720        |\n",
      "| train/                  |              |\n",
      "|    approx_kl            | 0.0060346834 |\n",
      "|    clip_fraction        | 0.074        |\n",
      "|    clip_range           | 0.2          |\n",
      "|    entropy_loss         | -0.547       |\n",
      "|    explained_variance   | 0.979        |\n",
      "|    learning_rate        | 0.0003       |\n",
      "|    loss                 | 0.724        |\n",
      "|    n_updates            | 140          |\n",
      "|    policy_gradient_loss | -0.00854     |\n",
      "|    value_loss           | 2.87         |\n",
      "------------------------------------------\n"
     ]
    },
    {
     "name": "stdout",
     "output_type": "stream",
     "text": [
      "-----------------------------------------\n",
      "| rollout/                |             |\n",
      "|    ep_len_mean          | 251         |\n",
      "|    ep_rew_mean          | 251         |\n",
      "| time/                   |             |\n",
      "|    fps                  | 157         |\n",
      "|    iterations           | 16          |\n",
      "|    time_elapsed         | 208         |\n",
      "|    total_timesteps      | 32768       |\n",
      "| train/                  |             |\n",
      "|    approx_kl            | 0.009754445 |\n",
      "|    clip_fraction        | 0.0951      |\n",
      "|    clip_range           | 0.2         |\n",
      "|    entropy_loss         | -0.516      |\n",
      "|    explained_variance   | 0.705       |\n",
      "|    learning_rate        | 0.0003      |\n",
      "|    loss                 | 0.205       |\n",
      "|    n_updates            | 150         |\n",
      "|    policy_gradient_loss | -0.0101     |\n",
      "|    value_loss           | 1.12        |\n",
      "-----------------------------------------\n"
     ]
    },
    {
     "name": "stdout",
     "output_type": "stream",
     "text": [
      "------------------------------------------\n",
      "| rollout/                |              |\n",
      "|    ep_len_mean          | 272          |\n",
      "|    ep_rew_mean          | 272          |\n",
      "| time/                   |              |\n",
      "|    fps                  | 159          |\n",
      "|    iterations           | 17           |\n",
      "|    time_elapsed         | 218          |\n",
      "|    total_timesteps      | 34816        |\n",
      "| train/                  |              |\n",
      "|    approx_kl            | 0.0036355245 |\n",
      "|    clip_fraction        | 0.0452       |\n",
      "|    clip_range           | 0.2          |\n",
      "|    entropy_loss         | -0.53        |\n",
      "|    explained_variance   | 0.183        |\n",
      "|    learning_rate        | 0.0003       |\n",
      "|    loss                 | 0.0684       |\n",
      "|    n_updates            | 160          |\n",
      "|    policy_gradient_loss | -0.00281     |\n",
      "|    value_loss           | 0.697        |\n",
      "------------------------------------------\n"
     ]
    },
    {
     "name": "stdout",
     "output_type": "stream",
     "text": [
      "------------------------------------------\n",
      "| rollout/                |              |\n",
      "|    ep_len_mean          | 290          |\n",
      "|    ep_rew_mean          | 290          |\n",
      "| time/                   |              |\n",
      "|    fps                  | 160          |\n",
      "|    iterations           | 18           |\n",
      "|    time_elapsed         | 229          |\n",
      "|    total_timesteps      | 36864        |\n",
      "| train/                  |              |\n",
      "|    approx_kl            | 0.0031565928 |\n",
      "|    clip_fraction        | 0.0121       |\n",
      "|    clip_range           | 0.2          |\n",
      "|    entropy_loss         | -0.537       |\n",
      "|    explained_variance   | 0.00942      |\n",
      "|    learning_rate        | 0.0003       |\n",
      "|    loss                 | 0.0458       |\n",
      "|    n_updates            | 170          |\n",
      "|    policy_gradient_loss | -0.000377    |\n",
      "|    value_loss           | 0.418        |\n",
      "------------------------------------------\n"
     ]
    },
    {
     "name": "stdout",
     "output_type": "stream",
     "text": [
      "-----------------------------------------\n",
      "| rollout/                |             |\n",
      "|    ep_len_mean          | 307         |\n",
      "|    ep_rew_mean          | 307         |\n",
      "| time/                   |             |\n",
      "|    fps                  | 161         |\n",
      "|    iterations           | 19          |\n",
      "|    time_elapsed         | 240         |\n",
      "|    total_timesteps      | 38912       |\n",
      "| train/                  |             |\n",
      "|    approx_kl            | 0.002360817 |\n",
      "|    clip_fraction        | 0.0146      |\n",
      "|    clip_range           | 0.2         |\n",
      "|    entropy_loss         | -0.511      |\n",
      "|    explained_variance   | -0.0424     |\n",
      "|    learning_rate        | 0.0003      |\n",
      "|    loss                 | 0.0083      |\n",
      "|    n_updates            | 180         |\n",
      "|    policy_gradient_loss | -0.000934   |\n",
      "|    value_loss           | 0.268       |\n",
      "-----------------------------------------\n"
     ]
    },
    {
     "name": "stdout",
     "output_type": "stream",
     "text": [
      "------------------------------------------\n",
      "| rollout/                |              |\n",
      "|    ep_len_mean          | 324          |\n",
      "|    ep_rew_mean          | 324          |\n",
      "| time/                   |              |\n",
      "|    fps                  | 163          |\n",
      "|    iterations           | 20           |\n",
      "|    time_elapsed         | 250          |\n",
      "|    total_timesteps      | 40960        |\n",
      "| train/                  |              |\n",
      "|    approx_kl            | 0.0038364413 |\n",
      "|    clip_fraction        | 0.0188       |\n",
      "|    clip_range           | 0.2          |\n",
      "|    entropy_loss         | -0.508       |\n",
      "|    explained_variance   | 0.0066       |\n",
      "|    learning_rate        | 0.0003       |\n",
      "|    loss                 | 0.0308       |\n",
      "|    n_updates            | 190          |\n",
      "|    policy_gradient_loss | -0.00168     |\n",
      "|    value_loss           | 0.166        |\n",
      "------------------------------------------\n"
     ]
    },
    {
     "name": "stdout",
     "output_type": "stream",
     "text": [
      "------------------------------------------\n",
      "| rollout/                |              |\n",
      "|    ep_len_mean          | 339          |\n",
      "|    ep_rew_mean          | 339          |\n",
      "| time/                   |              |\n",
      "|    fps                  | 164          |\n",
      "|    iterations           | 21           |\n",
      "|    time_elapsed         | 261          |\n",
      "|    total_timesteps      | 43008        |\n",
      "| train/                  |              |\n",
      "|    approx_kl            | 0.0024717962 |\n",
      "|    clip_fraction        | 0.0221       |\n",
      "|    clip_range           | 0.2          |\n",
      "|    entropy_loss         | -0.52        |\n",
      "|    explained_variance   | 0.0627       |\n",
      "|    learning_rate        | 0.0003       |\n",
      "|    loss                 | 0.0118       |\n",
      "|    n_updates            | 200          |\n",
      "|    policy_gradient_loss | -0.00157     |\n",
      "|    value_loss           | 0.111        |\n",
      "------------------------------------------\n"
     ]
    },
    {
     "name": "stdout",
     "output_type": "stream",
     "text": [
      "------------------------------------------\n",
      "| rollout/                |              |\n",
      "|    ep_len_mean          | 354          |\n",
      "|    ep_rew_mean          | 354          |\n",
      "| time/                   |              |\n",
      "|    fps                  | 165          |\n",
      "|    iterations           | 22           |\n",
      "|    time_elapsed         | 271          |\n",
      "|    total_timesteps      | 45056        |\n",
      "| train/                  |              |\n",
      "|    approx_kl            | 0.0037757126 |\n",
      "|    clip_fraction        | 0.0252       |\n",
      "|    clip_range           | 0.2          |\n",
      "|    entropy_loss         | -0.502       |\n",
      "|    explained_variance   | -0.0156      |\n",
      "|    learning_rate        | 0.0003       |\n",
      "|    loss                 | 0.0148       |\n",
      "|    n_updates            | 210          |\n",
      "|    policy_gradient_loss | -0.000862    |\n",
      "|    value_loss           | 0.0694       |\n",
      "------------------------------------------\n"
     ]
    },
    {
     "name": "stdout",
     "output_type": "stream",
     "text": [
      "------------------------------------------\n",
      "| rollout/                |              |\n",
      "|    ep_len_mean          | 370          |\n",
      "|    ep_rew_mean          | 370          |\n",
      "| time/                   |              |\n",
      "|    fps                  | 166          |\n",
      "|    iterations           | 23           |\n",
      "|    time_elapsed         | 282          |\n",
      "|    total_timesteps      | 47104        |\n",
      "| train/                  |              |\n",
      "|    approx_kl            | 0.0047811046 |\n",
      "|    clip_fraction        | 0.00923      |\n",
      "|    clip_range           | 0.2          |\n",
      "|    entropy_loss         | -0.492       |\n",
      "|    explained_variance   | 0.00518      |\n",
      "|    learning_rate        | 0.0003       |\n",
      "|    loss                 | 0.659        |\n",
      "|    n_updates            | 220          |\n",
      "|    policy_gradient_loss | -5.19e-05    |\n",
      "|    value_loss           | 27.2         |\n",
      "------------------------------------------\n"
     ]
    },
    {
     "name": "stdout",
     "output_type": "stream",
     "text": [
      "------------------------------------------\n",
      "| rollout/                |              |\n",
      "|    ep_len_mean          | 391          |\n",
      "|    ep_rew_mean          | 391          |\n",
      "| time/                   |              |\n",
      "|    fps                  | 167          |\n",
      "|    iterations           | 24           |\n",
      "|    time_elapsed         | 293          |\n",
      "|    total_timesteps      | 49152        |\n",
      "| train/                  |              |\n",
      "|    approx_kl            | 0.0061586984 |\n",
      "|    clip_fraction        | 0.0591       |\n",
      "|    clip_range           | 0.2          |\n",
      "|    entropy_loss         | -0.488       |\n",
      "|    explained_variance   | -0.985       |\n",
      "|    learning_rate        | 0.0003       |\n",
      "|    loss                 | -0.0121      |\n",
      "|    n_updates            | 230          |\n",
      "|    policy_gradient_loss | -0.00555     |\n",
      "|    value_loss           | 0.0496       |\n",
      "------------------------------------------\n"
     ]
    },
    {
     "name": "stdout",
     "output_type": "stream",
     "text": [
      "-----------------------------------------\n",
      "| rollout/                |             |\n",
      "|    ep_len_mean          | 405         |\n",
      "|    ep_rew_mean          | 405         |\n",
      "| time/                   |             |\n",
      "|    fps                  | 168         |\n",
      "|    iterations           | 25          |\n",
      "|    time_elapsed         | 303         |\n",
      "|    total_timesteps      | 51200       |\n",
      "| train/                  |             |\n",
      "|    approx_kl            | 0.007271897 |\n",
      "|    clip_fraction        | 0.114       |\n",
      "|    clip_range           | 0.2         |\n",
      "|    entropy_loss         | -0.485      |\n",
      "|    explained_variance   | -0.234      |\n",
      "|    learning_rate        | 0.0003      |\n",
      "|    loss                 | -0.0064     |\n",
      "|    n_updates            | 240         |\n",
      "|    policy_gradient_loss | -0.01       |\n",
      "|    value_loss           | 0.0365      |\n",
      "-----------------------------------------\n"
     ]
    },
    {
     "name": "stdout",
     "output_type": "stream",
     "text": [
      "-----------------------------------------\n",
      "| rollout/                |             |\n",
      "|    ep_len_mean          | 419         |\n",
      "|    ep_rew_mean          | 419         |\n",
      "| time/                   |             |\n",
      "|    fps                  | 169         |\n",
      "|    iterations           | 26          |\n",
      "|    time_elapsed         | 314         |\n",
      "|    total_timesteps      | 53248       |\n",
      "| train/                  |             |\n",
      "|    approx_kl            | 0.009578022 |\n",
      "|    clip_fraction        | 0.135       |\n",
      "|    clip_range           | 0.2         |\n",
      "|    entropy_loss         | -0.472      |\n",
      "|    explained_variance   | -0.443      |\n",
      "|    learning_rate        | 0.0003      |\n",
      "|    loss                 | 0.000376    |\n",
      "|    n_updates            | 250         |\n",
      "|    policy_gradient_loss | -0.00886    |\n",
      "|    value_loss           | 0.013       |\n",
      "-----------------------------------------\n"
     ]
    },
    {
     "name": "stdout",
     "output_type": "stream",
     "text": [
      "-----------------------------------------\n",
      "| rollout/                |             |\n",
      "|    ep_len_mean          | 433         |\n",
      "|    ep_rew_mean          | 433         |\n",
      "| time/                   |             |\n",
      "|    fps                  | 170         |\n",
      "|    iterations           | 27          |\n",
      "|    time_elapsed         | 324         |\n",
      "|    total_timesteps      | 55296       |\n",
      "| train/                  |             |\n",
      "|    approx_kl            | 0.005920344 |\n",
      "|    clip_fraction        | 0.0592      |\n",
      "|    clip_range           | 0.2         |\n",
      "|    entropy_loss         | -0.453      |\n",
      "|    explained_variance   | -0.157      |\n",
      "|    learning_rate        | 0.0003      |\n",
      "|    loss                 | 0.00358     |\n",
      "|    n_updates            | 260         |\n",
      "|    policy_gradient_loss | -0.00342    |\n",
      "|    value_loss           | 0.00689     |\n",
      "-----------------------------------------\n"
     ]
    },
    {
     "name": "stdout",
     "output_type": "stream",
     "text": [
      "----------------------------------------\n",
      "| rollout/                |            |\n",
      "|    ep_len_mean          | 444        |\n",
      "|    ep_rew_mean          | 444        |\n",
      "| time/                   |            |\n",
      "|    fps                  | 171        |\n",
      "|    iterations           | 28         |\n",
      "|    time_elapsed         | 335        |\n",
      "|    total_timesteps      | 57344      |\n",
      "| train/                  |            |\n",
      "|    approx_kl            | 0.00534931 |\n",
      "|    clip_fraction        | 0.0395     |\n",
      "|    clip_range           | 0.2        |\n",
      "|    entropy_loss         | -0.456     |\n",
      "|    explained_variance   | -0.0543    |\n",
      "|    learning_rate        | 0.0003     |\n",
      "|    loss                 | 0.00228    |\n",
      "|    n_updates            | 270        |\n",
      "|    policy_gradient_loss | -0.00187   |\n",
      "|    value_loss           | 0.00445    |\n",
      "----------------------------------------\n"
     ]
    },
    {
     "name": "stdout",
     "output_type": "stream",
     "text": [
      "------------------------------------------\n",
      "| rollout/                |              |\n",
      "|    ep_len_mean          | 454          |\n",
      "|    ep_rew_mean          | 454          |\n",
      "| time/                   |              |\n",
      "|    fps                  | 171          |\n",
      "|    iterations           | 29           |\n",
      "|    time_elapsed         | 345          |\n",
      "|    total_timesteps      | 59392        |\n",
      "| train/                  |              |\n",
      "|    approx_kl            | 0.0021118093 |\n",
      "|    clip_fraction        | 0.0211       |\n",
      "|    clip_range           | 0.2          |\n",
      "|    entropy_loss         | -0.45        |\n",
      "|    explained_variance   | -0.0153      |\n",
      "|    learning_rate        | 0.0003       |\n",
      "|    loss                 | 0.00731      |\n",
      "|    n_updates            | 280          |\n",
      "|    policy_gradient_loss | -0.000433    |\n",
      "|    value_loss           | 0.00288      |\n",
      "------------------------------------------\n"
     ]
    },
    {
     "name": "stdout",
     "output_type": "stream",
     "text": [
      "-----------------------------------------\n",
      "| rollout/                |             |\n",
      "|    ep_len_mean          | 460         |\n",
      "|    ep_rew_mean          | 460         |\n",
      "| time/                   |             |\n",
      "|    fps                  | 172         |\n",
      "|    iterations           | 30          |\n",
      "|    time_elapsed         | 356         |\n",
      "|    total_timesteps      | 61440       |\n",
      "| train/                  |             |\n",
      "|    approx_kl            | 0.004816146 |\n",
      "|    clip_fraction        | 0.0313      |\n",
      "|    clip_range           | 0.2         |\n",
      "|    entropy_loss         | -0.459      |\n",
      "|    explained_variance   | -0.035      |\n",
      "|    learning_rate        | 0.0003      |\n",
      "|    loss                 | -0.00892    |\n",
      "|    n_updates            | 290         |\n",
      "|    policy_gradient_loss | -0.000518   |\n",
      "|    value_loss           | 0.00185     |\n",
      "-----------------------------------------\n"
     ]
    },
    {
     "name": "stdout",
     "output_type": "stream",
     "text": [
      "------------------------------------------\n",
      "| rollout/                |              |\n",
      "|    ep_len_mean          | 467          |\n",
      "|    ep_rew_mean          | 467          |\n",
      "| time/                   |              |\n",
      "|    fps                  | 172          |\n",
      "|    iterations           | 31           |\n",
      "|    time_elapsed         | 367          |\n",
      "|    total_timesteps      | 63488        |\n",
      "| train/                  |              |\n",
      "|    approx_kl            | 0.0049191588 |\n",
      "|    clip_fraction        | 0.0429       |\n",
      "|    clip_range           | 0.2          |\n",
      "|    entropy_loss         | -0.443       |\n",
      "|    explained_variance   | -0.0106      |\n",
      "|    learning_rate        | 0.0003       |\n",
      "|    loss                 | -0.0183      |\n",
      "|    n_updates            | 300          |\n",
      "|    policy_gradient_loss | -0.0025      |\n",
      "|    value_loss           | 0.00136      |\n",
      "------------------------------------------\n"
     ]
    },
    {
     "name": "stdout",
     "output_type": "stream",
     "text": [
      "------------------------------------------\n",
      "| rollout/                |              |\n",
      "|    ep_len_mean          | 477          |\n",
      "|    ep_rew_mean          | 477          |\n",
      "| time/                   |              |\n",
      "|    fps                  | 173          |\n",
      "|    iterations           | 32           |\n",
      "|    time_elapsed         | 377          |\n",
      "|    total_timesteps      | 65536        |\n",
      "| train/                  |              |\n",
      "|    approx_kl            | 0.0027712353 |\n",
      "|    clip_fraction        | 0.0333       |\n",
      "|    clip_range           | 0.2          |\n",
      "|    entropy_loss         | -0.438       |\n",
      "|    explained_variance   | -0.0488      |\n",
      "|    learning_rate        | 0.0003       |\n",
      "|    loss                 | -0.00298     |\n",
      "|    n_updates            | 310          |\n",
      "|    policy_gradient_loss | -0.0014      |\n",
      "|    value_loss           | 0.000944     |\n",
      "------------------------------------------\n"
     ]
    },
    {
     "name": "stdout",
     "output_type": "stream",
     "text": [
      "-----------------------------------------\n",
      "| rollout/                |             |\n",
      "|    ep_len_mean          | 479         |\n",
      "|    ep_rew_mean          | 479         |\n",
      "| time/                   |             |\n",
      "|    fps                  | 173         |\n",
      "|    iterations           | 33          |\n",
      "|    time_elapsed         | 388         |\n",
      "|    total_timesteps      | 67584       |\n",
      "| train/                  |             |\n",
      "|    approx_kl            | 0.007508699 |\n",
      "|    clip_fraction        | 0.062       |\n",
      "|    clip_range           | 0.2         |\n",
      "|    entropy_loss         | -0.442      |\n",
      "|    explained_variance   | 0.0934      |\n",
      "|    learning_rate        | 0.0003      |\n",
      "|    loss                 | 0.00582     |\n",
      "|    n_updates            | 320         |\n",
      "|    policy_gradient_loss | -0.00139    |\n",
      "|    value_loss           | 0.000623    |\n",
      "-----------------------------------------\n"
     ]
    },
    {
     "name": "stdout",
     "output_type": "stream",
     "text": [
      "-----------------------------------------\n",
      "| rollout/                |             |\n",
      "|    ep_len_mean          | 485         |\n",
      "|    ep_rew_mean          | 485         |\n",
      "| time/                   |             |\n",
      "|    fps                  | 174         |\n",
      "|    iterations           | 34          |\n",
      "|    time_elapsed         | 398         |\n",
      "|    total_timesteps      | 69632       |\n",
      "| train/                  |             |\n",
      "|    approx_kl            | 0.005005513 |\n",
      "|    clip_fraction        | 0.0191      |\n",
      "|    clip_range           | 0.2         |\n",
      "|    entropy_loss         | -0.43       |\n",
      "|    explained_variance   | -0.113      |\n",
      "|    learning_rate        | 0.0003      |\n",
      "|    loss                 | -0.00241    |\n",
      "|    n_updates            | 330         |\n",
      "|    policy_gradient_loss | -0.000571   |\n",
      "|    value_loss           | 0.000456    |\n",
      "-----------------------------------------\n"
     ]
    },
    {
     "name": "stdout",
     "output_type": "stream",
     "text": [
      "------------------------------------------\n",
      "| rollout/                |              |\n",
      "|    ep_len_mean          | 488          |\n",
      "|    ep_rew_mean          | 488          |\n",
      "| time/                   |              |\n",
      "|    fps                  | 174          |\n",
      "|    iterations           | 35           |\n",
      "|    time_elapsed         | 409          |\n",
      "|    total_timesteps      | 71680        |\n",
      "| train/                  |              |\n",
      "|    approx_kl            | 0.0031890743 |\n",
      "|    clip_fraction        | 0.0321       |\n",
      "|    clip_range           | 0.2          |\n",
      "|    entropy_loss         | -0.425       |\n",
      "|    explained_variance   | -0.0926      |\n",
      "|    learning_rate        | 0.0003       |\n",
      "|    loss                 | -0.0277      |\n",
      "|    n_updates            | 340          |\n",
      "|    policy_gradient_loss | -0.00184     |\n",
      "|    value_loss           | 0.000294     |\n",
      "------------------------------------------\n"
     ]
    },
    {
     "name": "stdout",
     "output_type": "stream",
     "text": [
      "-------------------------------------------\n",
      "| rollout/                |               |\n",
      "|    ep_len_mean          | 491           |\n",
      "|    ep_rew_mean          | 491           |\n",
      "| time/                   |               |\n",
      "|    fps                  | 175           |\n",
      "|    iterations           | 36            |\n",
      "|    time_elapsed         | 420           |\n",
      "|    total_timesteps      | 73728         |\n",
      "| train/                  |               |\n",
      "|    approx_kl            | 0.00040929904 |\n",
      "|    clip_fraction        | 0.00313       |\n",
      "|    clip_range           | 0.2           |\n",
      "|    entropy_loss         | -0.431        |\n",
      "|    explained_variance   | 0.0323        |\n",
      "|    learning_rate        | 0.0003        |\n",
      "|    loss                 | -0.0073       |\n",
      "|    n_updates            | 350           |\n",
      "|    policy_gradient_loss | 0.000125      |\n",
      "|    value_loss           | 0.000217      |\n",
      "-------------------------------------------\n"
     ]
    },
    {
     "name": "stdout",
     "output_type": "stream",
     "text": [
      "------------------------------------------\n",
      "| rollout/                |              |\n",
      "|    ep_len_mean          | 498          |\n",
      "|    ep_rew_mean          | 498          |\n",
      "| time/                   |              |\n",
      "|    fps                  | 176          |\n",
      "|    iterations           | 37           |\n",
      "|    time_elapsed         | 430          |\n",
      "|    total_timesteps      | 75776        |\n",
      "| train/                  |              |\n",
      "|    approx_kl            | 0.0033272407 |\n",
      "|    clip_fraction        | 0.0205       |\n",
      "|    clip_range           | 0.2          |\n",
      "|    entropy_loss         | -0.43        |\n",
      "|    explained_variance   | -0.091       |\n",
      "|    learning_rate        | 0.0003       |\n",
      "|    loss                 | 0.00696      |\n",
      "|    n_updates            | 360          |\n",
      "|    policy_gradient_loss | -0.00113     |\n",
      "|    value_loss           | 0.000165     |\n",
      "------------------------------------------\n"
     ]
    },
    {
     "name": "stdout",
     "output_type": "stream",
     "text": [
      "------------------------------------------\n",
      "| rollout/                |              |\n",
      "|    ep_len_mean          | 499          |\n",
      "|    ep_rew_mean          | 499          |\n",
      "| time/                   |              |\n",
      "|    fps                  | 176          |\n",
      "|    iterations           | 38           |\n",
      "|    time_elapsed         | 440          |\n",
      "|    total_timesteps      | 77824        |\n",
      "| train/                  |              |\n",
      "|    approx_kl            | 0.0033762234 |\n",
      "|    clip_fraction        | 0.0185       |\n",
      "|    clip_range           | 0.2          |\n",
      "|    entropy_loss         | -0.402       |\n",
      "|    explained_variance   | -0.14        |\n",
      "|    learning_rate        | 0.0003       |\n",
      "|    loss                 | 0.00318      |\n",
      "|    n_updates            | 370          |\n",
      "|    policy_gradient_loss | -0.00153     |\n",
      "|    value_loss           | 0.000101     |\n",
      "------------------------------------------\n"
     ]
    },
    {
     "name": "stdout",
     "output_type": "stream",
     "text": [
      "----------------------------------------\n",
      "| rollout/                |            |\n",
      "|    ep_len_mean          | 499        |\n",
      "|    ep_rew_mean          | 499        |\n",
      "| time/                   |            |\n",
      "|    fps                  | 176        |\n",
      "|    iterations           | 39         |\n",
      "|    time_elapsed         | 451        |\n",
      "|    total_timesteps      | 79872      |\n",
      "| train/                  |            |\n",
      "|    approx_kl            | 0.00238722 |\n",
      "|    clip_fraction        | 0.0203     |\n",
      "|    clip_range           | 0.2        |\n",
      "|    entropy_loss         | -0.393     |\n",
      "|    explained_variance   | -0.202     |\n",
      "|    learning_rate        | 0.0003     |\n",
      "|    loss                 | 0.00765    |\n",
      "|    n_updates            | 380        |\n",
      "|    policy_gradient_loss | -0.00123   |\n",
      "|    value_loss           | 8.77e-05   |\n",
      "----------------------------------------\n"
     ]
    },
    {
     "name": "stdout",
     "output_type": "stream",
     "text": [
      "------------------------------------------\n",
      "| rollout/                |              |\n",
      "|    ep_len_mean          | 499          |\n",
      "|    ep_rew_mean          | 499          |\n",
      "| time/                   |              |\n",
      "|    fps                  | 177          |\n",
      "|    iterations           | 40           |\n",
      "|    time_elapsed         | 461          |\n",
      "|    total_timesteps      | 81920        |\n",
      "| train/                  |              |\n",
      "|    approx_kl            | 0.0013513981 |\n",
      "|    clip_fraction        | 0.0165       |\n",
      "|    clip_range           | 0.2          |\n",
      "|    entropy_loss         | -0.372       |\n",
      "|    explained_variance   | -0.141       |\n",
      "|    learning_rate        | 0.0003       |\n",
      "|    loss                 | -0.0059      |\n",
      "|    n_updates            | 390          |\n",
      "|    policy_gradient_loss | -0.00123     |\n",
      "|    value_loss           | 5.52e-05     |\n",
      "------------------------------------------\n"
     ]
    },
    {
     "name": "stdout",
     "output_type": "stream",
     "text": [
      "------------------------------------------\n",
      "| rollout/                |              |\n",
      "|    ep_len_mean          | 499          |\n",
      "|    ep_rew_mean          | 499          |\n",
      "| time/                   |              |\n",
      "|    fps                  | 177          |\n",
      "|    iterations           | 41           |\n",
      "|    time_elapsed         | 471          |\n",
      "|    total_timesteps      | 83968        |\n",
      "| train/                  |              |\n",
      "|    approx_kl            | 0.0019080585 |\n",
      "|    clip_fraction        | 0.0217       |\n",
      "|    clip_range           | 0.2          |\n",
      "|    entropy_loss         | -0.358       |\n",
      "|    explained_variance   | -0.29        |\n",
      "|    learning_rate        | 0.0003       |\n",
      "|    loss                 | -0.012       |\n",
      "|    n_updates            | 400          |\n",
      "|    policy_gradient_loss | -0.000819    |\n",
      "|    value_loss           | 4.93e-05     |\n",
      "------------------------------------------\n"
     ]
    },
    {
     "name": "stdout",
     "output_type": "stream",
     "text": [
      "------------------------------------------\n",
      "| rollout/                |              |\n",
      "|    ep_len_mean          | 499          |\n",
      "|    ep_rew_mean          | 499          |\n",
      "| time/                   |              |\n",
      "|    fps                  | 178          |\n",
      "|    iterations           | 42           |\n",
      "|    time_elapsed         | 482          |\n",
      "|    total_timesteps      | 86016        |\n",
      "| train/                  |              |\n",
      "|    approx_kl            | 0.0053403825 |\n",
      "|    clip_fraction        | 0.0404       |\n",
      "|    clip_range           | 0.2          |\n",
      "|    entropy_loss         | -0.36        |\n",
      "|    explained_variance   | -0.299       |\n",
      "|    learning_rate        | 0.0003       |\n",
      "|    loss                 | 0.0037       |\n",
      "|    n_updates            | 410          |\n",
      "|    policy_gradient_loss | -0.00206     |\n",
      "|    value_loss           | 2.86e-05     |\n",
      "------------------------------------------\n"
     ]
    },
    {
     "name": "stdout",
     "output_type": "stream",
     "text": [
      "------------------------------------------\n",
      "| rollout/                |              |\n",
      "|    ep_len_mean          | 499          |\n",
      "|    ep_rew_mean          | 499          |\n",
      "| time/                   |              |\n",
      "|    fps                  | 178          |\n",
      "|    iterations           | 43           |\n",
      "|    time_elapsed         | 493          |\n",
      "|    total_timesteps      | 88064        |\n",
      "| train/                  |              |\n",
      "|    approx_kl            | 0.0022597965 |\n",
      "|    clip_fraction        | 0.0185       |\n",
      "|    clip_range           | 0.2          |\n",
      "|    entropy_loss         | -0.348       |\n",
      "|    explained_variance   | -0.185       |\n",
      "|    learning_rate        | 0.0003       |\n",
      "|    loss                 | -0.0185      |\n",
      "|    n_updates            | 420          |\n",
      "|    policy_gradient_loss | -0.00256     |\n",
      "|    value_loss           | 2.46e-05     |\n",
      "------------------------------------------\n"
     ]
    },
    {
     "name": "stdout",
     "output_type": "stream",
     "text": [
      "------------------------------------------\n",
      "| rollout/                |              |\n",
      "|    ep_len_mean          | 499          |\n",
      "|    ep_rew_mean          | 499          |\n",
      "| time/                   |              |\n",
      "|    fps                  | 178          |\n",
      "|    iterations           | 44           |\n",
      "|    time_elapsed         | 503          |\n",
      "|    total_timesteps      | 90112        |\n",
      "| train/                  |              |\n",
      "|    approx_kl            | 0.0027612776 |\n",
      "|    clip_fraction        | 0.015        |\n",
      "|    clip_range           | 0.2          |\n",
      "|    entropy_loss         | -0.341       |\n",
      "|    explained_variance   | -0.515       |\n",
      "|    learning_rate        | 0.0003       |\n",
      "|    loss                 | 0.000248     |\n",
      "|    n_updates            | 430          |\n",
      "|    policy_gradient_loss | -0.000333    |\n",
      "|    value_loss           | 2.09e-05     |\n",
      "------------------------------------------\n"
     ]
    },
    {
     "name": "stdout",
     "output_type": "stream",
     "text": [
      "------------------------------------------\n",
      "| rollout/                |              |\n",
      "|    ep_len_mean          | 499          |\n",
      "|    ep_rew_mean          | 499          |\n",
      "| time/                   |              |\n",
      "|    fps                  | 179          |\n",
      "|    iterations           | 45           |\n",
      "|    time_elapsed         | 514          |\n",
      "|    total_timesteps      | 92160        |\n",
      "| train/                  |              |\n",
      "|    approx_kl            | 0.0015171631 |\n",
      "|    clip_fraction        | 0.0143       |\n",
      "|    clip_range           | 0.2          |\n",
      "|    entropy_loss         | -0.324       |\n",
      "|    explained_variance   | -0.355       |\n",
      "|    learning_rate        | 0.0003       |\n",
      "|    loss                 | 0.0134       |\n",
      "|    n_updates            | 440          |\n",
      "|    policy_gradient_loss | -0.000262    |\n",
      "|    value_loss           | 1.26e-05     |\n",
      "------------------------------------------\n"
     ]
    },
    {
     "name": "stdout",
     "output_type": "stream",
     "text": [
      "------------------------------------------\n",
      "| rollout/                |              |\n",
      "|    ep_len_mean          | 500          |\n",
      "|    ep_rew_mean          | 500          |\n",
      "| time/                   |              |\n",
      "|    fps                  | 179          |\n",
      "|    iterations           | 46           |\n",
      "|    time_elapsed         | 525          |\n",
      "|    total_timesteps      | 94208        |\n",
      "| train/                  |              |\n",
      "|    approx_kl            | 0.0030124746 |\n",
      "|    clip_fraction        | 0.0159       |\n",
      "|    clip_range           | 0.2          |\n",
      "|    entropy_loss         | -0.326       |\n",
      "|    explained_variance   | -0.666       |\n",
      "|    learning_rate        | 0.0003       |\n",
      "|    loss                 | -0.000454    |\n",
      "|    n_updates            | 450          |\n",
      "|    policy_gradient_loss | -9.8e-05     |\n",
      "|    value_loss           | 1.23e-05     |\n",
      "------------------------------------------\n"
     ]
    },
    {
     "name": "stdout",
     "output_type": "stream",
     "text": [
      "------------------------------------------\n",
      "| rollout/                |              |\n",
      "|    ep_len_mean          | 500          |\n",
      "|    ep_rew_mean          | 500          |\n",
      "| time/                   |              |\n",
      "|    fps                  | 179          |\n",
      "|    iterations           | 47           |\n",
      "|    time_elapsed         | 535          |\n",
      "|    total_timesteps      | 96256        |\n",
      "| train/                  |              |\n",
      "|    approx_kl            | 0.0034937744 |\n",
      "|    clip_fraction        | 0.0231       |\n",
      "|    clip_range           | 0.2          |\n",
      "|    entropy_loss         | -0.31        |\n",
      "|    explained_variance   | -0.863       |\n",
      "|    learning_rate        | 0.0003       |\n",
      "|    loss                 | -0.0111      |\n",
      "|    n_updates            | 460          |\n",
      "|    policy_gradient_loss | -0.00205     |\n",
      "|    value_loss           | 7.9e-06      |\n",
      "------------------------------------------\n"
     ]
    },
    {
     "name": "stdout",
     "output_type": "stream",
     "text": [
      "------------------------------------------\n",
      "| rollout/                |              |\n",
      "|    ep_len_mean          | 500          |\n",
      "|    ep_rew_mean          | 500          |\n",
      "| time/                   |              |\n",
      "|    fps                  | 179          |\n",
      "|    iterations           | 48           |\n",
      "|    time_elapsed         | 546          |\n",
      "|    total_timesteps      | 98304        |\n",
      "| train/                  |              |\n",
      "|    approx_kl            | 0.0027715378 |\n",
      "|    clip_fraction        | 0.0223       |\n",
      "|    clip_range           | 0.2          |\n",
      "|    entropy_loss         | -0.311       |\n",
      "|    explained_variance   | -0.697       |\n",
      "|    learning_rate        | 0.0003       |\n",
      "|    loss                 | 0.00284      |\n",
      "|    n_updates            | 470          |\n",
      "|    policy_gradient_loss | 0.000335     |\n",
      "|    value_loss           | 5.27e-06     |\n",
      "------------------------------------------\n"
     ]
    },
    {
     "name": "stdout",
     "output_type": "stream",
     "text": [
      "-----------------------------------------\n",
      "| rollout/                |             |\n",
      "|    ep_len_mean          | 500         |\n",
      "|    ep_rew_mean          | 500         |\n",
      "| time/                   |             |\n",
      "|    fps                  | 180         |\n",
      "|    iterations           | 49          |\n",
      "|    time_elapsed         | 556         |\n",
      "|    total_timesteps      | 100352      |\n",
      "| train/                  |             |\n",
      "|    approx_kl            | 0.005876924 |\n",
      "|    clip_fraction        | 0.0554      |\n",
      "|    clip_range           | 0.2         |\n",
      "|    entropy_loss         | -0.324      |\n",
      "|    explained_variance   | -0.857      |\n",
      "|    learning_rate        | 0.0003      |\n",
      "|    loss                 | -0.0203     |\n",
      "|    n_updates            | 480         |\n",
      "|    policy_gradient_loss | -0.00229    |\n",
      "|    value_loss           | 4.91e-06    |\n",
      "-----------------------------------------\n"
     ]
    },
    {
     "data": {
      "text/html": [
       "<pre style=\"white-space:pre;overflow-x:auto;line-height:normal;font-family:Menlo,'DejaVu Sans Mono',consolas,'Courier New',monospace\"></pre>\n"
      ],
      "text/plain": []
     },
     "metadata": {},
     "output_type": "display_data"
    },
    {
     "data": {
      "text/plain": [
       "<stable_baselines3.ppo.ppo.PPO at 0x38dbd2580>"
      ]
     },
     "execution_count": 2,
     "metadata": {},
     "output_type": "execute_result"
    }
   ],
   "source": [
    "\n",
    "\n",
    "cb1 = WandbCallback(model_save_freq=config1['save_freq'], model_save_path=f'models/{config1[\"gravity\"]}g_{run1.id}')\n",
    "\n",
    "model.learn(total_timesteps=config1['total_timesteps'],progress_bar=True, callback=cb1)"
   ]
  },
  {
   "cell_type": "code",
   "execution_count": 3,
   "metadata": {},
   "outputs": [],
   "source": [
    "# test_env = gymnasium.make('CartPole-v1', render_mode='human')\n",
    "# obs, _ = test_env.reset()\n",
    "\n",
    "# for i in range(1000):\n",
    "#     action, _ = model.predict(obs, deterministic=True)\n",
    "#     obs, reward, terminated, truncated, info = test_env.step(action)\n",
    "#     done = terminated or truncated\n",
    "    \n",
    "#     if done:\n",
    "#         test_env.reset()"
   ]
  },
  {
   "cell_type": "code",
   "execution_count": 4,
   "metadata": {},
   "outputs": [],
   "source": [
    "# pendulum_env = gymnasium.make('Pendulum-v1', render_mode='rgb_array', g=config1['gravity'])\n",
    "# model = PPO('MlpPolicy', pendulum_env, verbose=0)\n",
    "# model.learn(total_timesteps=config1['total_timesteps'], progress_bar=True)"
   ]
  },
  {
   "cell_type": "code",
   "execution_count": 5,
   "metadata": {},
   "outputs": [],
   "source": [
    "# test_pendulm_env = gymnasium.make('Pendulum-v1', render_mode='human', g=2)\n",
    "# obs, _ = test_pendulm_env.reset()\n",
    "\n",
    "# for i in range(1000):\n",
    "#     action, _ = model.predict(obs)\n",
    "#     obs, reward, terminated, truncated, info = test_pendulm_env.step(action)\n",
    "#     done = terminated or truncated\n",
    "    \n",
    "#     if done:\n",
    "#         test_pendulm_env.reset()\n",
    "    "
   ]
  },
  {
   "cell_type": "code",
   "execution_count": 6,
   "metadata": {},
   "outputs": [],
   "source": [
    "# model.save('models/pendulum_g2')"
   ]
  },
  {
   "cell_type": "code",
   "execution_count": null,
   "metadata": {},
   "outputs": [],
   "source": []
  },
  {
   "cell_type": "code",
   "execution_count": 7,
   "metadata": {},
   "outputs": [],
   "source": [
    "# config2 = dict(total_timesteps=100000, \n",
    "#               save_freq=10000, \n",
    "#               gravity=9.81)\n",
    "\n",
    "# run2 = wandb.init(project='Pendulum_981g', config=config2)\n",
    "\n",
    "# cb2 = WandbCallback(model_save_freq=config2['save_freq'], model_save_path=f'models/{config2['gravity']}g_{run2.id}')\n",
    "\n"
   ]
  },
  {
   "cell_type": "code",
   "execution_count": null,
   "metadata": {},
   "outputs": [],
   "source": [
    "# pendulum_env_2 = gymnasium.make('Pendulum-v1', render_mode='rgb_array', g=config2['gravity'])\n",
    "# model = PPO('MlpPolicy', pendulum_env_2, verbose=1)\n",
    "# model.learn(total_timesteps=config2['total_timesteps'], progress_bar=True, callback=cb2)"
   ]
  },
  {
   "cell_type": "code",
   "execution_count": null,
   "metadata": {},
   "outputs": [],
   "source": [
    "# test_pendulm_env = gymnasium.make('Pendulum-v1', render_mode='human', g=9.81)\n",
    "# obs, _ = test_pendulm_env.reset()\n",
    "\n",
    "# for i in range(1000):\n",
    "#     action, _ = model.predict(obs)\n",
    "#     obs, reward, terminated, truncated, info = test_pendulm_env.step(action)\n",
    "#     done = terminated or truncated\n",
    "    \n",
    "#     if done:\n",
    "#         test_pendulm_env.reset()\n",
    "    \n",
    "# test_pendulm_env.close()"
   ]
  },
  {
   "cell_type": "code",
   "execution_count": 11,
   "metadata": {},
   "outputs": [],
   "source": [
    "# model.save('models/pendulum_g981')"
   ]
  },
  {
   "cell_type": "code",
   "execution_count": null,
   "metadata": {},
   "outputs": [],
   "source": []
  }
 ],
 "metadata": {
  "kernelspec": {
   "display_name": "block_b2",
   "language": "python",
   "name": "python3"
  },
  "language_info": {
   "codemirror_mode": {
    "name": "ipython",
    "version": 3
   },
   "file_extension": ".py",
   "mimetype": "text/x-python",
   "name": "python",
   "nbconvert_exporter": "python",
   "pygments_lexer": "ipython3",
   "version": "3.8.18"
  }
 },
 "nbformat": 4,
 "nbformat_minor": 2
}
